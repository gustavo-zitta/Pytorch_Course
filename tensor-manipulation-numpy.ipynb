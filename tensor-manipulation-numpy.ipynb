{
 "cells": [
  {
   "cell_type": "code",
   "execution_count": 1,
   "id": "b986adfe",
   "metadata": {
    "execution": {
     "iopub.execute_input": "2023-05-15T15:58:00.288136Z",
     "iopub.status.busy": "2023-05-15T15:58:00.287666Z",
     "iopub.status.idle": "2023-05-15T15:58:14.812338Z",
     "shell.execute_reply": "2023-05-15T15:58:14.811095Z"
    },
    "executionInfo": {
     "elapsed": 11223,
     "status": "ok",
     "timestamp": 1683566186664,
     "user": {
      "displayName": "Gustavo Robl Zitta",
      "userId": "12496481005659581268"
     },
     "user_tz": 180
    },
    "id": "HZNrKUgzXHsj",
    "outputId": "329b0125-2362-45a6-e3ad-56c576484350",
    "papermill": {
     "duration": 14.536543,
     "end_time": "2023-05-15T15:58:14.815194",
     "exception": false,
     "start_time": "2023-05-15T15:58:00.278651",
     "status": "completed"
    },
    "tags": []
   },
   "outputs": [
    {
     "name": "stdout",
     "output_type": "stream",
     "text": [
      "Requirement already satisfied: torch in /opt/conda/lib/python3.10/site-packages (2.0.0+cpu)\r\n",
      "Requirement already satisfied: jinja2 in /opt/conda/lib/python3.10/site-packages (from torch) (3.1.2)\r\n",
      "Requirement already satisfied: filelock in /opt/conda/lib/python3.10/site-packages (from torch) (3.11.0)\r\n",
      "Requirement already satisfied: typing-extensions in /opt/conda/lib/python3.10/site-packages (from torch) (4.5.0)\r\n",
      "Requirement already satisfied: networkx in /opt/conda/lib/python3.10/site-packages (from torch) (3.1)\r\n",
      "Requirement already satisfied: sympy in /opt/conda/lib/python3.10/site-packages (from torch) (1.11.1)\r\n",
      "Requirement already satisfied: MarkupSafe>=2.0 in /opt/conda/lib/python3.10/site-packages (from jinja2->torch) (2.1.2)\r\n",
      "Requirement already satisfied: mpmath>=0.19 in /opt/conda/lib/python3.10/site-packages (from sympy->torch) (1.3.0)\r\n",
      "\u001b[33mWARNING: Running pip as the 'root' user can result in broken permissions and conflicting behaviour with the system package manager. It is recommended to use a virtual environment instead: https://pip.pypa.io/warnings/venv\u001b[0m\u001b[33m\r\n",
      "\u001b[0m"
     ]
    }
   ],
   "source": [
    "!pip install torch"
   ]
  },
  {
   "cell_type": "code",
   "execution_count": 2,
   "id": "2d1930af",
   "metadata": {
    "execution": {
     "iopub.execute_input": "2023-05-15T15:58:14.832585Z",
     "iopub.status.busy": "2023-05-15T15:58:14.832188Z",
     "iopub.status.idle": "2023-05-15T15:58:18.378082Z",
     "shell.execute_reply": "2023-05-15T15:58:18.376882Z"
    },
    "executionInfo": {
     "elapsed": 2,
     "status": "ok",
     "timestamp": 1683567613969,
     "user": {
      "displayName": "Gustavo Robl Zitta",
      "userId": "12496481005659581268"
     },
     "user_tz": 180
    },
    "id": "yqjq6gIkXO53",
    "jupyter": {
     "source_hidden": true
    },
    "papermill": {
     "duration": 3.557862,
     "end_time": "2023-05-15T15:58:18.380882",
     "exception": false,
     "start_time": "2023-05-15T15:58:14.823020",
     "status": "completed"
    },
    "tags": []
   },
   "outputs": [],
   "source": [
    "import torch\n",
    "import numpy as np\n",
    "import matplotlib.pyplot as plt\n",
    "\n"
   ]
  },
  {
   "cell_type": "code",
   "execution_count": 3,
   "id": "b382b725",
   "metadata": {
    "execution": {
     "iopub.execute_input": "2023-05-15T15:58:18.397954Z",
     "iopub.status.busy": "2023-05-15T15:58:18.396766Z",
     "iopub.status.idle": "2023-05-15T15:58:18.454183Z",
     "shell.execute_reply": "2023-05-15T15:58:18.453167Z"
    },
    "executionInfo": {
     "elapsed": 3,
     "status": "ok",
     "timestamp": 1683566268444,
     "user": {
      "displayName": "Gustavo Robl Zitta",
      "userId": "12496481005659581268"
     },
     "user_tz": 180
    },
    "id": "FlvFvielXRpg",
    "outputId": "34b82662-6a16-486e-c629-19dfec7375b7",
    "papermill": {
     "duration": 0.068589,
     "end_time": "2023-05-15T15:58:18.456734",
     "exception": false,
     "start_time": "2023-05-15T15:58:18.388145",
     "status": "completed"
    },
    "tags": []
   },
   "outputs": [
    {
     "data": {
      "text/plain": [
       "tensor([2, 3, 4])"
      ]
     },
     "execution_count": 3,
     "metadata": {},
     "output_type": "execute_result"
    }
   ],
   "source": [
    "v=torch.tensor([1,2,3,4,5,6])\n",
    "v[1:4]"
   ]
  },
  {
   "cell_type": "code",
   "execution_count": 4,
   "id": "1f04b053",
   "metadata": {
    "execution": {
     "iopub.execute_input": "2023-05-15T15:58:18.473316Z",
     "iopub.status.busy": "2023-05-15T15:58:18.472913Z",
     "iopub.status.idle": "2023-05-15T15:58:18.537465Z",
     "shell.execute_reply": "2023-05-15T15:58:18.536383Z"
    },
    "executionInfo": {
     "elapsed": 3,
     "status": "ok",
     "timestamp": 1683566336713,
     "user": {
      "displayName": "Gustavo Robl Zitta",
      "userId": "12496481005659581268"
     },
     "user_tz": 180
    },
    "id": "4lRedUh8XV9f",
    "outputId": "aea0ad07-9b61-4588-907d-f4042bbca658",
    "papermill": {
     "duration": 0.075702,
     "end_time": "2023-05-15T15:58:18.539928",
     "exception": false,
     "start_time": "2023-05-15T15:58:18.464226",
     "status": "completed"
    },
    "tags": []
   },
   "outputs": [
    {
     "data": {
      "text/plain": [
       "tensor([2., 3., 4.])"
      ]
     },
     "execution_count": 4,
     "metadata": {},
     "output_type": "execute_result"
    }
   ],
   "source": [
    "v=torch.FloatTensor([1,2,3,4,5,6])\n",
    "v[1:4]"
   ]
  },
  {
   "cell_type": "code",
   "execution_count": 5,
   "id": "631311d7",
   "metadata": {
    "execution": {
     "iopub.execute_input": "2023-05-15T15:58:18.557633Z",
     "iopub.status.busy": "2023-05-15T15:58:18.557255Z",
     "iopub.status.idle": "2023-05-15T15:58:18.567506Z",
     "shell.execute_reply": "2023-05-15T15:58:18.566014Z"
    },
    "executionInfo": {
     "elapsed": 3,
     "status": "ok",
     "timestamp": 1683566465597,
     "user": {
      "displayName": "Gustavo Robl Zitta",
      "userId": "12496481005659581268"
     },
     "user_tz": 180
    },
    "id": "7YuusZwRX5a6",
    "outputId": "9eb2e82d-4a18-4378-d171-b3b97b19700b",
    "papermill": {
     "duration": 0.022401,
     "end_time": "2023-05-15T15:58:18.570028",
     "exception": false,
     "start_time": "2023-05-15T15:58:18.547627",
     "status": "completed"
    },
    "tags": []
   },
   "outputs": [
    {
     "name": "stdout",
     "output_type": "stream",
     "text": [
      "tensor([[1.],\n",
      "        [2.],\n",
      "        [3.],\n",
      "        [4.],\n",
      "        [5.],\n",
      "        [6.]])\n",
      "tensor([[1., 2.],\n",
      "        [3., 4.],\n",
      "        [5., 6.]])\n",
      "tensor([[1., 2., 3.],\n",
      "        [4., 5., 6.]])\n",
      "tensor([[1., 2., 3., 4., 5., 6.]])\n"
     ]
    }
   ],
   "source": [
    "print(v.view(6,1))\n",
    "print(v.view(3,2))\n",
    "print(v.view(2,3))\n",
    "print(v.view(1,-1))"
   ]
  },
  {
   "cell_type": "code",
   "execution_count": 6,
   "id": "78961ce3",
   "metadata": {
    "execution": {
     "iopub.execute_input": "2023-05-15T15:58:18.587611Z",
     "iopub.status.busy": "2023-05-15T15:58:18.587227Z",
     "iopub.status.idle": "2023-05-15T15:58:18.594463Z",
     "shell.execute_reply": "2023-05-15T15:58:18.593394Z"
    },
    "executionInfo": {
     "elapsed": 4,
     "status": "ok",
     "timestamp": 1683566547844,
     "user": {
      "displayName": "Gustavo Robl Zitta",
      "userId": "12496481005659581268"
     },
     "user_tz": 180
    },
    "id": "RMhgdvpYX_Wq",
    "outputId": "f1b86a7b-58fb-44a8-c8d2-98d01163f174",
    "papermill": {
     "duration": 0.018807,
     "end_time": "2023-05-15T15:58:18.596700",
     "exception": false,
     "start_time": "2023-05-15T15:58:18.577893",
     "status": "completed"
    },
    "tags": []
   },
   "outputs": [
    {
     "data": {
      "text/plain": [
       "tensor([1, 2, 3, 4, 5])"
      ]
     },
     "execution_count": 6,
     "metadata": {},
     "output_type": "execute_result"
    }
   ],
   "source": [
    "a=np.array([1,2,3,4,5])\n",
    "tensor=torch.from_numpy(a)\n",
    "tensor"
   ]
  },
  {
   "cell_type": "code",
   "execution_count": 7,
   "id": "8f141aec",
   "metadata": {
    "execution": {
     "iopub.execute_input": "2023-05-15T15:58:18.614622Z",
     "iopub.status.busy": "2023-05-15T15:58:18.613953Z",
     "iopub.status.idle": "2023-05-15T15:58:18.622117Z",
     "shell.execute_reply": "2023-05-15T15:58:18.621128Z"
    },
    "executionInfo": {
     "elapsed": 3,
     "status": "ok",
     "timestamp": 1683566576213,
     "user": {
      "displayName": "Gustavo Robl Zitta",
      "userId": "12496481005659581268"
     },
     "user_tz": 180
    },
    "id": "0F-UM3awYjmD",
    "outputId": "9f24869c-d4da-458a-b8fb-ed20c7c85968",
    "papermill": {
     "duration": 0.019631,
     "end_time": "2023-05-15T15:58:18.624289",
     "exception": false,
     "start_time": "2023-05-15T15:58:18.604658",
     "status": "completed"
    },
    "tags": []
   },
   "outputs": [
    {
     "data": {
      "text/plain": [
       "array([1, 2, 3, 4, 5])"
      ]
     },
     "execution_count": 7,
     "metadata": {},
     "output_type": "execute_result"
    }
   ],
   "source": [
    "tensor.numpy()"
   ]
  },
  {
   "cell_type": "code",
   "execution_count": 8,
   "id": "7b642c8d",
   "metadata": {
    "execution": {
     "iopub.execute_input": "2023-05-15T15:58:18.642762Z",
     "iopub.status.busy": "2023-05-15T15:58:18.642112Z",
     "iopub.status.idle": "2023-05-15T15:58:18.658600Z",
     "shell.execute_reply": "2023-05-15T15:58:18.657597Z"
    },
    "executionInfo": {
     "elapsed": 2,
     "status": "ok",
     "timestamp": 1683567965943,
     "user": {
      "displayName": "Gustavo Robl Zitta",
      "userId": "12496481005659581268"
     },
     "user_tz": 180
    },
    "id": "XYxKJFvXYz9E",
    "papermill": {
     "duration": 0.028853,
     "end_time": "2023-05-15T15:58:18.661168",
     "exception": false,
     "start_time": "2023-05-15T15:58:18.632315",
     "status": "completed"
    },
    "tags": []
   },
   "outputs": [],
   "source": [
    "x = torch.linspace(0,10,100)\n",
    "y = torch.sin(x)"
   ]
  },
  {
   "cell_type": "code",
   "execution_count": 9,
   "id": "3dde7863",
   "metadata": {
    "execution": {
     "iopub.execute_input": "2023-05-15T15:58:18.679896Z",
     "iopub.status.busy": "2023-05-15T15:58:18.679244Z",
     "iopub.status.idle": "2023-05-15T15:58:18.964234Z",
     "shell.execute_reply": "2023-05-15T15:58:18.963170Z"
    },
    "executionInfo": {
     "elapsed": 552,
     "status": "ok",
     "timestamp": 1683567967127,
     "user": {
      "displayName": "Gustavo Robl Zitta",
      "userId": "12496481005659581268"
     },
     "user_tz": 180
    },
    "id": "tAbbyGh1cKsU",
    "outputId": "04cd83c6-9d0d-4964-c083-76f90b363261",
    "papermill": {
     "duration": 0.297299,
     "end_time": "2023-05-15T15:58:18.966769",
     "exception": false,
     "start_time": "2023-05-15T15:58:18.669470",
     "status": "completed"
    },
    "tags": []
   },
   "outputs": [
    {
     "data": {
      "text/plain": [
       "[<matplotlib.lines.Line2D at 0x788f3ab29360>]"
      ]
     },
     "execution_count": 9,
     "metadata": {},
     "output_type": "execute_result"
    },
    {
     "data": {
      "image/png": "[encoded data removed]",
      "text/plain": [
       "<Figure size 640x480 with 1 Axes>"
      ]
     },
     "metadata": {},
     "output_type": "display_data"
    }
   ],
   "source": [
    "plt.plot(x,y)"
   ]
  },
  {
   "cell_type": "code",
   "execution_count": 10,
   "id": "486a333b",
   "metadata": {
    "execution": {
     "iopub.execute_input": "2023-05-15T15:58:18.986812Z",
     "iopub.status.busy": "2023-05-15T15:58:18.986443Z",
     "iopub.status.idle": "2023-05-15T15:58:18.994904Z",
     "shell.execute_reply": "2023-05-15T15:58:18.994032Z"
    },
    "executionInfo": {
     "elapsed": 3,
     "status": "ok",
     "timestamp": 1683568473762,
     "user": {
      "displayName": "Gustavo Robl Zitta",
      "userId": "12496481005659581268"
     },
     "user_tz": 180
    },
    "id": "_FIvpRgcdQ8W",
    "outputId": "3c271b1b-7ed6-4464-c47c-0034fb0c254e",
    "papermill": {
     "duration": 0.021181,
     "end_time": "2023-05-15T15:58:18.997111",
     "exception": false,
     "start_time": "2023-05-15T15:58:18.975930",
     "status": "completed"
    },
    "tags": []
   },
   "outputs": [
    {
     "data": {
      "text/plain": [
       "tensor([0, 1, 2, 3, 4, 5, 6, 7, 8])"
      ]
     },
     "execution_count": 10,
     "metadata": {},
     "output_type": "execute_result"
    }
   ],
   "source": [
    "one_d=torch.arange(0,9)\n",
    "one_d"
   ]
  },
  {
   "cell_type": "code",
   "execution_count": 11,
   "id": "2adea807",
   "metadata": {
    "execution": {
     "iopub.execute_input": "2023-05-15T15:58:19.018037Z",
     "iopub.status.busy": "2023-05-15T15:58:19.016814Z",
     "iopub.status.idle": "2023-05-15T15:58:19.024624Z",
     "shell.execute_reply": "2023-05-15T15:58:19.023756Z"
    },
    "executionInfo": {
     "elapsed": 3,
     "status": "ok",
     "timestamp": 1683568509781,
     "user": {
      "displayName": "Gustavo Robl Zitta",
      "userId": "12496481005659581268"
     },
     "user_tz": 180
    },
    "id": "dAbrh7ZCf1uk",
    "outputId": "c8528ac2-2951-46ac-f768-d9a939319c06",
    "papermill": {
     "duration": 0.02048,
     "end_time": "2023-05-15T15:58:19.026827",
     "exception": false,
     "start_time": "2023-05-15T15:58:19.006347",
     "status": "completed"
    },
    "tags": []
   },
   "outputs": [
    {
     "data": {
      "text/plain": [
       "tensor([[0, 1, 2],\n",
       "        [3, 4, 5],\n",
       "        [6, 7, 8]])"
      ]
     },
     "execution_count": 11,
     "metadata": {},
     "output_type": "execute_result"
    }
   ],
   "source": [
    "two_d = one_d.view(3,3)\n",
    "two_d"
   ]
  },
  {
   "cell_type": "code",
   "execution_count": 12,
   "id": "59d0ad36",
   "metadata": {
    "execution": {
     "iopub.execute_input": "2023-05-15T15:58:19.048028Z",
     "iopub.status.busy": "2023-05-15T15:58:19.047228Z",
     "iopub.status.idle": "2023-05-15T15:58:19.053989Z",
     "shell.execute_reply": "2023-05-15T15:58:19.053048Z"
    },
    "executionInfo": {
     "elapsed": 772,
     "status": "ok",
     "timestamp": 1683568551567,
     "user": {
      "displayName": "Gustavo Robl Zitta",
      "userId": "12496481005659581268"
     },
     "user_tz": 180
    },
    "id": "flpjXZPzgKbs",
    "outputId": "21944cb2-9ee2-46cb-b9f3-b7e3c2643543",
    "papermill": {
     "duration": 0.019916,
     "end_time": "2023-05-15T15:58:19.056226",
     "exception": false,
     "start_time": "2023-05-15T15:58:19.036310",
     "status": "completed"
    },
    "tags": []
   },
   "outputs": [
    {
     "data": {
      "text/plain": [
       "2"
      ]
     },
     "execution_count": 12,
     "metadata": {},
     "output_type": "execute_result"
    }
   ],
   "source": [
    "two_d.dim()"
   ]
  },
  {
   "cell_type": "code",
   "execution_count": 13,
   "id": "84fd322e",
   "metadata": {
    "execution": {
     "iopub.execute_input": "2023-05-15T15:58:19.077629Z",
     "iopub.status.busy": "2023-05-15T15:58:19.076840Z",
     "iopub.status.idle": "2023-05-15T15:58:19.084092Z",
     "shell.execute_reply": "2023-05-15T15:58:19.083032Z"
    },
    "executionInfo": {
     "elapsed": 890,
     "status": "ok",
     "timestamp": 1683568594165,
     "user": {
      "displayName": "Gustavo Robl Zitta",
      "userId": "12496481005659581268"
     },
     "user_tz": 180
    },
    "id": "wczatOhGgWB9",
    "outputId": "45fe7eb5-4c2e-4b47-b8a7-6ecef60f8836",
    "papermill": {
     "duration": 0.020492,
     "end_time": "2023-05-15T15:58:19.086322",
     "exception": false,
     "start_time": "2023-05-15T15:58:19.065830",
     "status": "completed"
    },
    "tags": []
   },
   "outputs": [
    {
     "data": {
      "text/plain": [
       "tensor(5)"
      ]
     },
     "execution_count": 13,
     "metadata": {},
     "output_type": "execute_result"
    }
   ],
   "source": [
    "two_d[1,2]"
   ]
  },
  {
   "cell_type": "code",
   "execution_count": 14,
   "id": "457e98cd",
   "metadata": {
    "execution": {
     "iopub.execute_input": "2023-05-15T15:58:19.108136Z",
     "iopub.status.busy": "2023-05-15T15:58:19.107442Z",
     "iopub.status.idle": "2023-05-15T15:58:19.116058Z",
     "shell.execute_reply": "2023-05-15T15:58:19.115019Z"
    },
    "executionInfo": {
     "elapsed": 4,
     "status": "ok",
     "timestamp": 1683569281939,
     "user": {
      "displayName": "Gustavo Robl Zitta",
      "userId": "12496481005659581268"
     },
     "user_tz": 180
    },
    "id": "EmQbUvFaggWM",
    "outputId": "2e31c1de-f257-4b78-8792-989a49490bac",
    "papermill": {
     "duration": 0.022232,
     "end_time": "2023-05-15T15:58:19.118379",
     "exception": false,
     "start_time": "2023-05-15T15:58:19.096147",
     "status": "completed"
    },
    "tags": []
   },
   "outputs": [
    {
     "data": {
      "text/plain": [
       "tensor([[[[ 0,  1],\n",
       "          [ 2,  3],\n",
       "          [ 4,  5]],\n",
       "\n",
       "         [[ 6,  7],\n",
       "          [ 8,  9],\n",
       "          [10, 11]],\n",
       "\n",
       "         [[12, 13],\n",
       "          [14, 15],\n",
       "          [16, 17]]],\n",
       "\n",
       "\n",
       "        [[[18, 19],\n",
       "          [20, 21],\n",
       "          [22, 23]],\n",
       "\n",
       "         [[24, 25],\n",
       "          [26, 27],\n",
       "          [28, 29]],\n",
       "\n",
       "         [[30, 31],\n",
       "          [32, 33],\n",
       "          [34, 35]]]])"
      ]
     },
     "execution_count": 14,
     "metadata": {},
     "output_type": "execute_result"
    }
   ],
   "source": [
    "x=torch.arange(0,36).view(2,3,3,2)\n",
    "x"
   ]
  },
  {
   "cell_type": "code",
   "execution_count": 15,
   "id": "6424f3d2",
   "metadata": {
    "execution": {
     "iopub.execute_input": "2023-05-15T15:58:19.140670Z",
     "iopub.status.busy": "2023-05-15T15:58:19.140268Z",
     "iopub.status.idle": "2023-05-15T15:58:19.147731Z",
     "shell.execute_reply": "2023-05-15T15:58:19.146717Z"
    },
    "executionInfo": {
     "elapsed": 4,
     "status": "ok",
     "timestamp": 1683572735774,
     "user": {
      "displayName": "Gustavo Robl Zitta",
      "userId": "12496481005659581268"
     },
     "user_tz": 180
    },
    "id": "Fa8j-LN9glre",
    "outputId": "143c849c-adf0-4c9d-8ee3-4f3c7e33d14e",
    "papermill": {
     "duration": 0.021457,
     "end_time": "2023-05-15T15:58:19.150010",
     "exception": false,
     "start_time": "2023-05-15T15:58:19.128553",
     "status": "completed"
    },
    "tags": []
   },
   "outputs": [
    {
     "data": {
      "text/plain": [
       "tensor([[12, 13],\n",
       "        [14, 15],\n",
       "        [16, 17]])"
      ]
     },
     "execution_count": 15,
     "metadata": {},
     "output_type": "execute_result"
    }
   ],
   "source": [
    "x[0,2,:,:]"
   ]
  },
  {
   "cell_type": "code",
   "execution_count": 16,
   "id": "72682253",
   "metadata": {
    "execution": {
     "iopub.execute_input": "2023-05-15T15:58:19.172891Z",
     "iopub.status.busy": "2023-05-15T15:58:19.172463Z",
     "iopub.status.idle": "2023-05-15T15:58:19.178588Z",
     "shell.execute_reply": "2023-05-15T15:58:19.177563Z"
    },
    "executionInfo": {
     "elapsed": 2,
     "status": "ok",
     "timestamp": 1683568992235,
     "user": {
      "displayName": "Gustavo Robl Zitta",
      "userId": "12496481005659581268"
     },
     "user_tz": 180
    },
    "id": "t_nS-umYhOpf",
    "outputId": "17738a0e-0104-4265-95bd-17bdb0116d02",
    "papermill": {
     "duration": 0.020341,
     "end_time": "2023-05-15T15:58:19.180824",
     "exception": false,
     "start_time": "2023-05-15T15:58:19.160483",
     "status": "completed"
    },
    "tags": []
   },
   "outputs": [
    {
     "data": {
      "text/plain": [
       "36"
      ]
     },
     "execution_count": 16,
     "metadata": {},
     "output_type": "execute_result"
    }
   ],
   "source": [
    "18*2"
   ]
  },
  {
   "cell_type": "code",
   "execution_count": null,
   "id": "a972edd0",
   "metadata": {
    "id": "yMAbs70JiBlR",
    "papermill": {
     "duration": 0.010146,
     "end_time": "2023-05-15T15:58:19.201503",
     "exception": false,
     "start_time": "2023-05-15T15:58:19.191357",
     "status": "completed"
    },
    "tags": []
   },
   "outputs": [],
   "source": []
  }
 ],
 "metadata": {
  "kernelspec": {
   "display_name": "Python 3",
   "language": "python",
   "name": "python3"
  },
  "language_info": {
   "codemirror_mode": {
    "name": "ipython",
    "version": 3
   },
   "file_extension": ".py",
   "mimetype": "text/x-python",
   "name": "python",
   "nbconvert_exporter": "python",
   "pygments_lexer": "ipython3",
   "version": "3.10.10"
  },
  "papermill": {
   "default_parameters": {},
   "duration": 32.129502,
   "end_time": "2023-05-15T15:58:20.536490",
   "environment_variables": {},
   "exception": null,
   "input_path": "__notebook__.ipynb",
   "output_path": "__notebook__.ipynb",
   "parameters": {},
   "start_time": "2023-05-15T15:57:48.406988",
   "version": "2.4.0"
  }
 },
 "nbformat": 4,
 "nbformat_minor": 5
}
