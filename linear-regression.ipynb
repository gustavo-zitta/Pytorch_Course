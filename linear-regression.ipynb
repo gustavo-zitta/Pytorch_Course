{
 "cells": [
  {
   "cell_type": "code",
   "execution_count": 1,
   "id": "b7f19a43",
   "metadata": {
    "execution": {
     "iopub.execute_input": "2023-05-15T15:55:38.046949Z",
     "iopub.status.busy": "2023-05-15T15:55:38.046494Z",
     "iopub.status.idle": "2023-05-15T15:55:38.053342Z",
     "shell.execute_reply": "2023-05-15T15:55:38.052147Z"
    },
    "executionInfo": {
     "elapsed": 6590,
     "status": "ok",
     "timestamp": 1683641562193,
     "user": {
      "displayName": "Gustavo Robl Zitta",
      "userId": "12496481005659581268"
     },
     "user_tz": 180
    },
    "id": "vPTaLg-i2p9K",
    "outputId": "8b14d7be-6145-4171-e61f-c19168f97b16",
    "papermill": {
     "duration": 0.020724,
     "end_time": "2023-05-15T15:55:38.058237",
     "exception": false,
     "start_time": "2023-05-15T15:55:38.037513",
     "status": "completed"
    },
    "tags": []
   },
   "outputs": [],
   "source": [
    " #!pip install torch"
   ]
  },
  {
   "cell_type": "markdown",
   "id": "a1038264",
   "metadata": {
    "id": "BXg_xJHbTNq_",
    "papermill": {
     "duration": 0.006854,
     "end_time": "2023-05-15T15:55:38.072342",
     "exception": false,
     "start_time": "2023-05-15T15:55:38.065488",
     "status": "completed"
    },
    "tags": []
   },
   "source": [
    "# IMPORTS"
   ]
  },
  {
   "cell_type": "code",
   "execution_count": 2,
   "id": "a67280ee",
   "metadata": {
    "execution": {
     "iopub.execute_input": "2023-05-15T15:55:38.088369Z",
     "iopub.status.busy": "2023-05-15T15:55:38.087649Z",
     "iopub.status.idle": "2023-05-15T15:55:41.722728Z",
     "shell.execute_reply": "2023-05-15T15:55:41.721592Z"
    },
    "id": "61NmOPD5TMyH",
    "papermill": {
     "duration": 3.646211,
     "end_time": "2023-05-15T15:55:41.725666",
     "exception": false,
     "start_time": "2023-05-15T15:55:38.079455",
     "status": "completed"
    },
    "tags": []
   },
   "outputs": [],
   "source": [
    "import torch\n",
    "from torch.nn import Linear\n",
    "import matplotlib.pyplot as plt\n",
    "import torch.nn as nn\n",
    "import numpy as np"
   ]
  },
  {
   "cell_type": "markdown",
   "id": "80c0a8e5",
   "metadata": {
    "id": "KiDoMdvPTKO3",
    "papermill": {
     "duration": 0.007105,
     "end_time": "2023-05-15T15:55:41.740147",
     "exception": false,
     "start_time": "2023-05-15T15:55:41.733042",
     "status": "completed"
    },
    "tags": []
   },
   "source": [
    "# CREATING DATASET"
   ]
  },
  {
   "cell_type": "code",
   "execution_count": 3,
   "id": "06925d7f",
   "metadata": {
    "execution": {
     "iopub.execute_input": "2023-05-15T15:55:41.756974Z",
     "iopub.status.busy": "2023-05-15T15:55:41.755960Z",
     "iopub.status.idle": "2023-05-15T15:55:42.083626Z",
     "shell.execute_reply": "2023-05-15T15:55:42.082043Z"
    },
    "executionInfo": {
     "elapsed": 619,
     "status": "ok",
     "timestamp": 1683648973176,
     "user": {
      "displayName": "Gustavo Robl Zitta",
      "userId": "12496481005659581268"
     },
     "user_tz": 180
    },
    "id": "I7X2DwHQTHt3",
    "outputId": "b1da4d5d-39f8-44f6-9e39-5fe68c8c7a0f",
    "papermill": {
     "duration": 0.339549,
     "end_time": "2023-05-15T15:55:42.087023",
     "exception": false,
     "start_time": "2023-05-15T15:55:41.747474",
     "status": "completed"
    },
    "tags": []
   },
   "outputs": [
    {
     "data": {
      "text/plain": [
       "Text(0.5, 0, 'x')"
      ]
     },
     "execution_count": 3,
     "metadata": {},
     "output_type": "execute_result"
    },
    {
     "data": {
      "image/png": "[encoded data removed]",
      "text/plain": [
       "<Figure size 640x480 with 1 Axes>"
      ]
     },
     "metadata": {},
     "output_type": "display_data"
    }
   ],
   "source": [
    "x = torch.randn(100,1)*10\n",
    "y = x+3*torch.randn(100,1)\n",
    "plt.plot(x.numpy(),y.numpy(),'o')\n",
    "plt.ylabel('y')\n",
    "plt.xlabel('x')"
   ]
  },
  {
   "cell_type": "markdown",
   "id": "d26df22b",
   "metadata": {
    "id": "UqyyoDzr5uP3",
    "papermill": {
     "duration": 0.008692,
     "end_time": "2023-05-15T15:55:42.106670",
     "exception": false,
     "start_time": "2023-05-15T15:55:42.097978",
     "status": "completed"
    },
    "tags": []
   },
   "source": [
    "# Linear class"
   ]
  },
  {
   "cell_type": "code",
   "execution_count": null,
   "id": "f23d94c2",
   "metadata": {
    "id": "4lsmiG1q2yZ3",
    "papermill": {
     "duration": 0.007311,
     "end_time": "2023-05-15T15:55:42.121647",
     "exception": false,
     "start_time": "2023-05-15T15:55:42.114336",
     "status": "completed"
    },
    "tags": []
   },
   "outputs": [],
   "source": []
  },
  {
   "cell_type": "code",
   "execution_count": 4,
   "id": "9ae11f20",
   "metadata": {
    "execution": {
     "iopub.execute_input": "2023-05-15T15:55:42.138957Z",
     "iopub.status.busy": "2023-05-15T15:55:42.138323Z",
     "iopub.status.idle": "2023-05-15T15:55:42.143839Z",
     "shell.execute_reply": "2023-05-15T15:55:42.142772Z"
    },
    "id": "Ot2znBgw20xg",
    "papermill": {
     "duration": 0.017042,
     "end_time": "2023-05-15T15:55:42.146334",
     "exception": false,
     "start_time": "2023-05-15T15:55:42.129292",
     "status": "completed"
    },
    "tags": []
   },
   "outputs": [],
   "source": [
    "w=torch.tensor(3.0,requires_grad=True)\n",
    "b=torch.tensor(1.0,requires_grad=True)\n",
    "\n"
   ]
  },
  {
   "cell_type": "code",
   "execution_count": 5,
   "id": "d8e768cb",
   "metadata": {
    "execution": {
     "iopub.execute_input": "2023-05-15T15:55:42.163906Z",
     "iopub.status.busy": "2023-05-15T15:55:42.163261Z",
     "iopub.status.idle": "2023-05-15T15:55:42.168441Z",
     "shell.execute_reply": "2023-05-15T15:55:42.167404Z"
    },
    "id": "5jjCSZVP3VjZ",
    "papermill": {
     "duration": 0.016525,
     "end_time": "2023-05-15T15:55:42.170681",
     "exception": false,
     "start_time": "2023-05-15T15:55:42.154156",
     "status": "completed"
    },
    "tags": []
   },
   "outputs": [],
   "source": [
    "def forward(x):\n",
    "  y = w*x + b\n",
    "  return y"
   ]
  },
  {
   "cell_type": "code",
   "execution_count": 6,
   "id": "3cf3effa",
   "metadata": {
    "execution": {
     "iopub.execute_input": "2023-05-15T15:55:42.188567Z",
     "iopub.status.busy": "2023-05-15T15:55:42.187469Z",
     "iopub.status.idle": "2023-05-15T15:55:42.247785Z",
     "shell.execute_reply": "2023-05-15T15:55:42.246700Z"
    },
    "executionInfo": {
     "elapsed": 3,
     "status": "ok",
     "timestamp": 1683648935845,
     "user": {
      "displayName": "Gustavo Robl Zitta",
      "userId": "12496481005659581268"
     },
     "user_tz": 180
    },
    "id": "VspdtAir3bhI",
    "outputId": "02d756c3-63e0-45bd-b4c6-02d89f3840f7",
    "papermill": {
     "duration": 0.072306,
     "end_time": "2023-05-15T15:55:42.250610",
     "exception": false,
     "start_time": "2023-05-15T15:55:42.178304",
     "status": "completed"
    },
    "tags": []
   },
   "outputs": [
    {
     "data": {
      "text/plain": [
       "tensor([[13.],\n",
       "        [22.]], grad_fn=<AddBackward0>)"
      ]
     },
     "execution_count": 6,
     "metadata": {},
     "output_type": "execute_result"
    }
   ],
   "source": [
    "x=torch.tensor([[4],[7]])\n",
    "forward(x)"
   ]
  },
  {
   "cell_type": "code",
   "execution_count": 7,
   "id": "c3e28c7b",
   "metadata": {
    "execution": {
     "iopub.execute_input": "2023-05-15T15:55:42.267889Z",
     "iopub.status.busy": "2023-05-15T15:55:42.267516Z",
     "iopub.status.idle": "2023-05-15T15:55:42.278981Z",
     "shell.execute_reply": "2023-05-15T15:55:42.277630Z"
    },
    "executionInfo": {
     "elapsed": 6,
     "status": "ok",
     "timestamp": 1683648936274,
     "user": {
      "displayName": "Gustavo Robl Zitta",
      "userId": "12496481005659581268"
     },
     "user_tz": 180
    },
    "id": "IcamkLKd3i05",
    "outputId": "d1b05935-cb09-4d9d-d5d0-071d7d4de1fb",
    "papermill": {
     "duration": 0.023343,
     "end_time": "2023-05-15T15:55:42.281897",
     "exception": false,
     "start_time": "2023-05-15T15:55:42.258554",
     "status": "completed"
    },
    "tags": []
   },
   "outputs": [
    {
     "data": {
      "text/plain": [
       "tensor([[4],\n",
       "        [7]])"
      ]
     },
     "execution_count": 7,
     "metadata": {},
     "output_type": "execute_result"
    }
   ],
   "source": [
    "x"
   ]
  },
  {
   "cell_type": "code",
   "execution_count": 8,
   "id": "491c846b",
   "metadata": {
    "execution": {
     "iopub.execute_input": "2023-05-15T15:55:42.302549Z",
     "iopub.status.busy": "2023-05-15T15:55:42.301414Z",
     "iopub.status.idle": "2023-05-15T15:55:42.317902Z",
     "shell.execute_reply": "2023-05-15T15:55:42.317104Z"
    },
    "executionInfo": {
     "elapsed": 3,
     "status": "ok",
     "timestamp": 1683648936274,
     "user": {
      "displayName": "Gustavo Robl Zitta",
      "userId": "12496481005659581268"
     },
     "user_tz": 180
    },
    "id": "3m5osWaX4EFY",
    "outputId": "3206ba43-bccc-4603-fdce-45a788cae0dc",
    "papermill": {
     "duration": 0.029906,
     "end_time": "2023-05-15T15:55:42.320188",
     "exception": false,
     "start_time": "2023-05-15T15:55:42.290282",
     "status": "completed"
    },
    "tags": []
   },
   "outputs": [
    {
     "name": "stdout",
     "output_type": "stream",
     "text": [
      "Parameter containing:\n",
      "tensor([-0.4414], requires_grad=True) Parameter containing:\n",
      "tensor([[0.5153]], requires_grad=True)\n"
     ]
    }
   ],
   "source": [
    "torch.manual_seed(1)\n",
    "model=Linear(in_features=1,out_features=1)\n",
    "print(model.bias,model.weight)"
   ]
  },
  {
   "cell_type": "code",
   "execution_count": 9,
   "id": "925a3276",
   "metadata": {
    "execution": {
     "iopub.execute_input": "2023-05-15T15:55:42.339120Z",
     "iopub.status.busy": "2023-05-15T15:55:42.338328Z",
     "iopub.status.idle": "2023-05-15T15:55:42.354847Z",
     "shell.execute_reply": "2023-05-15T15:55:42.353829Z"
    },
    "executionInfo": {
     "elapsed": 2,
     "status": "ok",
     "timestamp": 1683648937506,
     "user": {
      "displayName": "Gustavo Robl Zitta",
      "userId": "12496481005659581268"
     },
     "user_tz": 180
    },
    "id": "B8o3eHnv4kkD",
    "outputId": "892225d5-fc7b-41f4-d1b6-ff6bac0fe2ea",
    "papermill": {
     "duration": 0.028691,
     "end_time": "2023-05-15T15:55:42.357209",
     "exception": false,
     "start_time": "2023-05-15T15:55:42.328518",
     "status": "completed"
    },
    "tags": []
   },
   "outputs": [
    {
     "data": {
      "text/plain": [
       "tensor([[0.5891],\n",
       "        [1.2590],\n",
       "        [1.0529]], grad_fn=<AddmmBackward0>)"
      ]
     },
     "execution_count": 9,
     "metadata": {},
     "output_type": "execute_result"
    }
   ],
   "source": [
    "x=torch.tensor([[2.0],[3.3],[2.9]])\n",
    "model(x)"
   ]
  },
  {
   "cell_type": "code",
   "execution_count": null,
   "id": "8577914e",
   "metadata": {
    "id": "ga5Lz64X5BBD",
    "papermill": {
     "duration": 0.008225,
     "end_time": "2023-05-15T15:55:42.374022",
     "exception": false,
     "start_time": "2023-05-15T15:55:42.365797",
     "status": "completed"
    },
    "tags": []
   },
   "outputs": [],
   "source": []
  },
  {
   "cell_type": "markdown",
   "id": "d7bd50f8",
   "metadata": {
    "id": "9iHq6oH25nZA",
    "papermill": {
     "duration": 0.008151,
     "end_time": "2023-05-15T15:55:42.390714",
     "exception": false,
     "start_time": "2023-05-15T15:55:42.382563",
     "status": "completed"
    },
    "tags": []
   },
   "source": [
    "#CUSTOM MODELS"
   ]
  },
  {
   "cell_type": "code",
   "execution_count": 10,
   "id": "319a8523",
   "metadata": {
    "execution": {
     "iopub.execute_input": "2023-05-15T15:55:42.409882Z",
     "iopub.status.busy": "2023-05-15T15:55:42.409089Z",
     "iopub.status.idle": "2023-05-15T15:55:42.415207Z",
     "shell.execute_reply": "2023-05-15T15:55:42.414439Z"
    },
    "id": "MUereggQ5o4H",
    "papermill": {
     "duration": 0.018528,
     "end_time": "2023-05-15T15:55:42.417746",
     "exception": false,
     "start_time": "2023-05-15T15:55:42.399218",
     "status": "completed"
    },
    "tags": []
   },
   "outputs": [],
   "source": [
    "class LR(nn.Module):\n",
    "  def __init__(self,input_size,output_size):\n",
    "    super().__init__()\n",
    "    self.linear=nn.Linear(input_size,output_size)\n",
    "  def forward(self,x):\n",
    "    pred= self.linear(x)\n",
    "    return pred\n"
   ]
  },
  {
   "cell_type": "code",
   "execution_count": 11,
   "id": "b1ef87f8",
   "metadata": {
    "execution": {
     "iopub.execute_input": "2023-05-15T15:55:42.437320Z",
     "iopub.status.busy": "2023-05-15T15:55:42.436541Z",
     "iopub.status.idle": "2023-05-15T15:55:42.443934Z",
     "shell.execute_reply": "2023-05-15T15:55:42.442771Z"
    },
    "executionInfo": {
     "elapsed": 4,
     "status": "ok",
     "timestamp": 1683648947004,
     "user": {
      "displayName": "Gustavo Robl Zitta",
      "userId": "12496481005659581268"
     },
     "user_tz": 180
    },
    "id": "naclll2C6vf8",
    "outputId": "f5f11628-75ec-40a4-bdb3-28ca75e774f6",
    "papermill": {
     "duration": 0.019993,
     "end_time": "2023-05-15T15:55:42.446334",
     "exception": false,
     "start_time": "2023-05-15T15:55:42.426341",
     "status": "completed"
    },
    "tags": []
   },
   "outputs": [
    {
     "name": "stdout",
     "output_type": "stream",
     "text": [
      "[Parameter containing:\n",
      "tensor([[-0.1939]], requires_grad=True), Parameter containing:\n",
      "tensor([0.4694], requires_grad=True)]\n"
     ]
    }
   ],
   "source": [
    "model = LR(1,1)\n",
    "print(list(model.parameters()))"
   ]
  },
  {
   "cell_type": "code",
   "execution_count": 12,
   "id": "7ddf853f",
   "metadata": {
    "execution": {
     "iopub.execute_input": "2023-05-15T15:55:42.466320Z",
     "iopub.status.busy": "2023-05-15T15:55:42.465908Z",
     "iopub.status.idle": "2023-05-15T15:55:42.474193Z",
     "shell.execute_reply": "2023-05-15T15:55:42.473038Z"
    },
    "executionInfo": {
     "elapsed": 2,
     "status": "ok",
     "timestamp": 1683648948875,
     "user": {
      "displayName": "Gustavo Robl Zitta",
      "userId": "12496481005659581268"
     },
     "user_tz": 180
    },
    "id": "0OvNmpOr62jL",
    "outputId": "9265ad55-8b62-43ac-d8af-08878ff4790e",
    "papermill": {
     "duration": 0.020818,
     "end_time": "2023-05-15T15:55:42.476460",
     "exception": false,
     "start_time": "2023-05-15T15:55:42.455642",
     "status": "completed"
    },
    "tags": []
   },
   "outputs": [
    {
     "data": {
      "text/plain": [
       "tensor([[0.2755],\n",
       "        [0.0816]], grad_fn=<AddmmBackward0>)"
      ]
     },
     "execution_count": 12,
     "metadata": {},
     "output_type": "execute_result"
    }
   ],
   "source": [
    "x=torch.tensor([[1.0],[2.0]])\n",
    "model.forward(x)"
   ]
  },
  {
   "cell_type": "code",
   "execution_count": 13,
   "id": "38b5edee",
   "metadata": {
    "execution": {
     "iopub.execute_input": "2023-05-15T15:55:42.496509Z",
     "iopub.status.busy": "2023-05-15T15:55:42.496120Z",
     "iopub.status.idle": "2023-05-15T15:55:42.506479Z",
     "shell.execute_reply": "2023-05-15T15:55:42.504884Z"
    },
    "executionInfo": {
     "elapsed": 1066,
     "status": "ok",
     "timestamp": 1683649356216,
     "user": {
      "displayName": "Gustavo Robl Zitta",
      "userId": "12496481005659581268"
     },
     "user_tz": 180
    },
    "id": "ecujlss9TS7j",
    "outputId": "ec898304-6650-4569-ed76-53bc830c7605",
    "papermill": {
     "duration": 0.02319,
     "end_time": "2023-05-15T15:55:42.508630",
     "exception": false,
     "start_time": "2023-05-15T15:55:42.485440",
     "status": "completed"
    },
    "tags": []
   },
   "outputs": [
    {
     "name": "stdout",
     "output_type": "stream",
     "text": [
      "weight: Parameter containing:\n",
      "tensor([[-0.1939]], requires_grad=True) \n",
      "\n",
      "bias: Parameter containing:\n",
      "tensor([0.4694], requires_grad=True)\n",
      "\n",
      "\n",
      "OR\n",
      "\n",
      "\n",
      "\n",
      "weight: -0.1938614845275879 \n",
      "\n",
      "bias: 0.46936893463134766\n"
     ]
    }
   ],
   "source": [
    "(w,b)=model.parameters()\n",
    "print('weight:',w,'\\n\\nbias:',b)#tensor\n",
    "\n",
    "#      OR\n",
    "print('\\n\\nOR')\n",
    "\n",
    "w1 = w[0][0].item() #python value\n",
    "b1 = b[0].item()    #python value\n",
    "print('\\n\\n\\nweight:',w1,'\\n\\nbias:',b1)"
   ]
  },
  {
   "cell_type": "code",
   "execution_count": 14,
   "id": "428a1172",
   "metadata": {
    "execution": {
     "iopub.execute_input": "2023-05-15T15:55:42.529154Z",
     "iopub.status.busy": "2023-05-15T15:55:42.528238Z",
     "iopub.status.idle": "2023-05-15T15:55:42.534561Z",
     "shell.execute_reply": "2023-05-15T15:55:42.533463Z"
    },
    "id": "YLpYHGOJTbp5",
    "papermill": {
     "duration": 0.019273,
     "end_time": "2023-05-15T15:55:42.537014",
     "exception": false,
     "start_time": "2023-05-15T15:55:42.517741",
     "status": "completed"
    },
    "tags": []
   },
   "outputs": [],
   "source": [
    "def get_params():\n",
    "  return(w[0][0].item(),b[0].item())   #python value"
   ]
  },
  {
   "cell_type": "code",
   "execution_count": 15,
   "id": "2512a124",
   "metadata": {
    "execution": {
     "iopub.execute_input": "2023-05-15T15:55:42.558785Z",
     "iopub.status.busy": "2023-05-15T15:55:42.558301Z",
     "iopub.status.idle": "2023-05-15T15:55:42.565576Z",
     "shell.execute_reply": "2023-05-15T15:55:42.564317Z"
    },
    "id": "69rUMEO_U4nF",
    "papermill": {
     "duration": 0.021301,
     "end_time": "2023-05-15T15:55:42.568163",
     "exception": false,
     "start_time": "2023-05-15T15:55:42.546862",
     "status": "completed"
    },
    "tags": []
   },
   "outputs": [],
   "source": [
    "def plot_fit(title):\n",
    "  plt.title = title\n",
    "  w1,b1 = get_params()\n",
    "  x1 = np.array([-30,30])\n",
    "  y1 = w1*x1 +b1\n",
    "  plt.plot(x1,y1,'r')\n",
    "  plt.scatter(x,y)\n",
    "  pl"
   ]
  },
  {
   "cell_type": "code",
   "execution_count": null,
   "id": "082470eb",
   "metadata": {
    "id": "wZyyahPIViIx",
    "outputId": "8487126a-e66b-41ab-f3f1-cb7eed509403",
    "papermill": {
     "duration": 0.009102,
     "end_time": "2023-05-15T15:55:42.586593",
     "exception": false,
     "start_time": "2023-05-15T15:55:42.577491",
     "status": "completed"
    },
    "tags": []
   },
   "outputs": [],
   "source": []
  }
 ],
 "metadata": {
  "kernelspec": {
   "display_name": "Python 3",
   "language": "python",
   "name": "python3"
  },
  "language_info": {
   "codemirror_mode": {
    "name": "ipython",
    "version": 3
   },
   "file_extension": ".py",
   "mimetype": "text/x-python",
   "name": "python",
   "nbconvert_exporter": "python",
   "pygments_lexer": "ipython3",
   "version": "3.10.10"
  },
  "papermill": {
   "default_parameters": {},
   "duration": 17.618494,
   "end_time": "2023-05-15T15:55:43.920915",
   "environment_variables": {},
   "exception": null,
   "input_path": "__notebook__.ipynb",
   "output_path": "__notebook__.ipynb",
   "parameters": {},
   "start_time": "2023-05-15T15:55:26.302421",
   "version": "2.4.0"
  }
 },
 "nbformat": 4,
 "nbformat_minor": 5
}
